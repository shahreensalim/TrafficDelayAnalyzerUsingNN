{
  "nbformat": 4,
  "nbformat_minor": 0,
  "metadata": {
    "colab": {
      "name": "534_UD_ANN.ipynb",
      "provenance": [],
      "collapsed_sections": []
    },
    "kernelspec": {
      "display_name": "Python 3",
      "name": "python3"
    },
    "language_info": {
      "name": "python"
    }
  },
  "cells": [
    {
      "cell_type": "markdown",
      "metadata": {
        "id": "-_FkGBWt4kQf"
      },
      "source": [
        "#Import & Setup"
      ]
    },
    {
      "cell_type": "code",
      "metadata": {
        "colab": {
          "base_uri": "https://localhost:8080/"
        },
        "id": "NBiuLiX3P2nM",
        "outputId": "65a3c800-9238-44a1-cbdc-2794d0e57ed2"
      },
      "source": [
        "from google.colab import drive\n",
        "drive.mount('/content/gdrive')"
      ],
      "execution_count": null,
      "outputs": [
        {
          "output_type": "stream",
          "name": "stdout",
          "text": [
            "Mounted at /content/gdrive\n"
          ]
        }
      ]
    },
    {
      "cell_type": "code",
      "metadata": {
        "id": "c4bcVTrmRoC1"
      },
      "source": [
        "import numpy as np\n",
        "import torch.optim as optim\n",
        "import time\n",
        "import pandas as pd\n",
        "import glob\n",
        "from math import sqrt\n",
        "import numpy as np\n",
        "from tqdm import tqdm"
      ],
      "execution_count": null,
      "outputs": []
    },
    {
      "cell_type": "markdown",
      "metadata": {
        "id": "QrVjsg8Z4siB"
      },
      "source": [
        "#Neural Net"
      ]
    },
    {
      "cell_type": "code",
      "metadata": {
        "id": "Uiz41nZ-Ve3-"
      },
      "source": [
        "def split(batches, size):\n",
        "  ret = []\n",
        "  mx = int(batches[0].shape[0] * size) \n",
        "  ret.append( [batches[0][:mx], batches[1][:mx]])\n",
        "  ret.append( [batches[0][mx:], batches[1][mx:]])\n",
        "  return ret \n",
        "\n",
        "def test(net, batches, loss_func):\n",
        "  total_loss = 0 \n",
        "  device = torch.device(\"cuda:0\" if torch.cuda.is_available() else \"cpu\")\n",
        "    \n",
        "  for b in range(len(batches[0])):\n",
        "    x = batches[0][b]\n",
        "    y = batches[1][b]\n",
        "    #print(x.shape, y.shape)\n",
        "    batch_x = x.to(device).float()\n",
        "    batch_y = y.to(device).float()\n",
        "    #print(\"batches\")\n",
        "    #print(type(batch_x))\n",
        "    outputs = net(batch_x)\n",
        "    loss = loss_func(outputs, batch_y)\n",
        "    total_loss += loss.item()\n",
        "  \n",
        "  total_loss /= len(batches[0])\n",
        "  return total_loss\n",
        "\n",
        "def train_net(net, batches, lr = 0.01, epoch = 1000):  \n",
        "    optimizer = optim.Adam(net.parameters(), lr=lr, weight_decay = 0.00003)\n",
        "    device = torch.device(\"cuda:0\" if torch.cuda.is_available() else \"cpu\")\n",
        "    start_time = time.time()\n",
        "    net.train()\n",
        "    \n",
        "    running_loss = 0.0\n",
        "    steps = 0\n",
        "    loss_func = nn.MSELoss()\n",
        "\n",
        "    train_batches, rest_batches = split(batches, 0.6)\n",
        "    val_batches, test_batches = split(rest_batches, 0.5)\n",
        "    print(train_batches[0].shape, train_batches[1].shape)\n",
        "    print(val_batches[0].shape, val_batches[1].shape)\n",
        "    print(test_batches[0].shape, test_batches[1].shape)\n",
        "    for ep in range(epoch):\n",
        "        cur_loss = 0\n",
        "        for b in range(len(train_batches[0])):\n",
        "            optimizer.zero_grad()\n",
        "            \n",
        "            x = train_batches[0][b]\n",
        "            y = train_batches[1][b]\n",
        "            #print(x.shape, y.shape)\n",
        "            batch_x = x.to(device).float()\n",
        "            batch_y = y.to(device).float()\n",
        "            #print(\"batches\")\n",
        "            #print(type(batch_x))\n",
        "            outputs = net(batch_x)\n",
        "            loss = loss_func(outputs, batch_y)\n",
        "            loss.backward()\n",
        "            optimizer.step()\n",
        "            steps += 1\n",
        "            running_loss += loss.item()\n",
        "            cur_loss += loss.item()\n",
        "        if ep % 5 == 0:\n",
        "            time_lapse = time.strftime('%H:%M:%S', time.gmtime(time.time() - start_time))\n",
        "            val_loss = test(net, val_batches, loss_func)\n",
        "            epoch_loss = cur_loss / len(train_batches[0])\n",
        "            print(f'Epoch:{ep:2d} |Time: {time_lapse} | Train Loss: {epoch_loss:.4f} | Validation Loss: {val_loss:.4f} | Average Loss: {running_loss / steps:.4f}')\n",
        "    return net, test(net, test_batches, loss_func)"
      ],
      "execution_count": null,
      "outputs": []
    },
    {
      "cell_type": "code",
      "metadata": {
        "id": "b7ZuJ1qNQ6cf"
      },
      "source": [
        "#main\n",
        "def train_save_model(data, file, csv_path):\n",
        "  dest_path = file.split(\"/\")[:-1]\n",
        "  file_name = file.split(\"/\")[-1]\n",
        "  file_name = file_name.split(\".\")[0]\n",
        "  dest_path = \"/\".join(dest_path) + \"/\" + file_name + \".pt\"\n",
        "  \n",
        "  df = pd.read_csv(csv_path, index_col = False)\n",
        "  if any(file_name in x for x in df['Name'].tolist()):\n",
        "    print(\"ALREADY DONE!! :)\", file_name)\n",
        "    return\n",
        "  dataset = Dataset(data, batch_size = 64)\n",
        "  batches = dataset.generate_batch()\n",
        "  print(batches[0].shape)\n",
        "  input_dim = batches[0].shape[2]\n",
        "  net = myNet(input_dim, layer_num=2)\n",
        "  net, test_error = train_net(net, batches, epoch = 1000)\n",
        "  \n",
        "  print(file)\n",
        "  print(dest_path)\n",
        "  torch.save(net, dest_path)\n",
        "  \n",
        "  df = df.append({'Name': file, 'Test_Error' : test_error, 'Dataset_size' : data.shape[0] }, ignore_index=True)\n",
        "  df.to_csv(csv_path, index=False)"
      ],
      "execution_count": null,
      "outputs": []
    },
    {
      "cell_type": "code",
      "metadata": {
        "id": "2Nw-mf00UZfD"
      },
      "source": [
        "\n",
        "import torch\n",
        "import torch.nn as nn\n",
        "\n",
        "\n",
        "class myNet(nn.Module):\n",
        "    def __init__(self,\n",
        "                 input_dim: int,\n",
        "                 layer_num: int = 2, \n",
        "                 neuron_num: int = -1\n",
        "                 ) :\n",
        " \n",
        "        super(myNet, self).__init__()\n",
        "        self.device = torch.device(\"cuda:0\" if torch.cuda.is_available() else \"cpu\")\n",
        "        self._layer_num = layer_num\n",
        "        if neuron_num < 0:\n",
        "          neuron_num = input_dim \n",
        "        if(layer_num == 2):\n",
        "          self.linear_predictor = nn.Sequential(\n",
        "              nn.Linear(input_dim, neuron_num),\n",
        "              nn.Sigmoid(),\n",
        "              nn.Linear(neuron_num, input_dim) \n",
        "          )\n",
        "          print(\"hola\")\n",
        "        else:\n",
        "          self.linear_predictor = nn.Sequential(\n",
        "              nn.Linear(input_dim, input_dim), \n",
        "          )\n",
        "        \n",
        "    def forward(self, inputs: torch.Tensor) -> torch.Tensor:\n",
        "        #print(\"Vow\")\n",
        "        inputs = inputs.float()\n",
        "        outputs = self.linear_predictor(inputs)\n",
        "        #print(\"done vow\")\n",
        "        return outputs\n",
        "\n"
      ],
      "execution_count": null,
      "outputs": []
    },
    {
      "cell_type": "code",
      "metadata": {
        "id": "HMg3ce8pNHhX"
      },
      "source": [
        "class Dataset:\n",
        "    def __init__(self, data, batch_size=32):\n",
        "        \n",
        "        self.batch_size = batch_size\n",
        "        self.data = data \n",
        "\n",
        "    def generate_batch(self):\n",
        "        \n",
        "        batches_x = []\n",
        "        batches_y = []\n",
        "        current_batch_x = []\n",
        "        current_batch_y = []\n",
        "        for x,y in self.data:\n",
        "          if(len(current_batch_x) == self.batch_size):\n",
        "            batches_x.append(current_batch_x)\n",
        "            batches_y.append(current_batch_y)\n",
        "            current_batch_x = []\n",
        "            current_batch_y = []\n",
        "          current_batch_x.append(x)\n",
        "          current_batch_y.append(y)\n",
        "        #batches.append(current_batch)\n",
        "        \n",
        "        return torch.tensor(batches_x), torch.tensor(batches_y)\n"
      ],
      "execution_count": null,
      "outputs": []
    },
    {
      "cell_type": "markdown",
      "metadata": {
        "id": "OFNY_oSr404p"
      },
      "source": [
        "#Main"
      ]
    },
    {
      "cell_type": "code",
      "metadata": {
        "id": "jI-HGZP_3CNk"
      },
      "source": [
        "#main\n",
        "def neuron_exp(data, file, csv_path = \"/content/gdrive/My Drive/CSE 534/Project/FCN_data/Nodes_vs_Neurons.csv\"):\n",
        "  dataset = Dataset(data, batch_size = 64)\n",
        "  batches = dataset.generate_batch()\n",
        "  print(batches[0].shape)\n",
        "  input_dim = batches[0].shape[2]\n",
        "  for neurons in [10, 25, 50, 100, 150, 225]:\n",
        "    net = myNet(input_dim, neuron_num = neurons)\n",
        "    net, test_error = train_net(net, batches, epoch = 1000)\n",
        "    \n",
        "    df = pd.read_csv(csv_path, index_col = False)\n",
        "    df = df.append({'Name': file, 'Test_Error' : test_error, 'Neurons' : neurons}, ignore_index=True)\n",
        "    df.to_csv(csv_path, index=False)"
      ],
      "execution_count": null,
      "outputs": []
    },
    {
      "cell_type": "code",
      "metadata": {
        "id": "KwJvvizV40h7"
      },
      "source": [
        "def read_and_create_models(directory = \"/content/gdrive/My Drive/CSE 534/Project/FCN_data/saturation_1\"):\n",
        "  pathname = directory + \"/**/*.txt\"\n",
        "  files = glob.glob(pathname, recursive=True)\n",
        "\n",
        "  count = 0\n",
        "  yolo = 0\n",
        "  for file in tqdm(files):\n",
        "      #print(file)\n",
        "      if \"readme\" not in file and \"README\" not in file:\n",
        "          with open(file, \"r\") as f:\n",
        "              lines = f.readlines()\n",
        "              if(len(lines) < 500):\n",
        "                print(\"SMALL!\",len(lines), file)\n",
        "                continue\n",
        "              ok = 0\n",
        "              data = []\n",
        "              \n",
        "              for line in lines:\n",
        "                array = line.split()[:-1]\n",
        "                array = [float(num) for num in array]\n",
        "                L = len(array)\n",
        "                if L % 2 != 0:\n",
        "                    # print(file)\n",
        "                    # print(\"L is not an even number!!!\")\n",
        "                    # print()\n",
        "                    continue\n",
        "                n = sqrt(L/2)\n",
        "                if n.is_integer():\n",
        "                    n = int(n)\n",
        "                else:\n",
        "                    # print(file)\n",
        "                    # print(\"not square\")\n",
        "                    # print()\n",
        "                    continue\n",
        "                arr1 = np.array(array[:n**2])\n",
        "                arr2 = np.array(array[n**2:])\n",
        "                x = np.reshape(arr1, (n, n))\n",
        "                y = np.reshape(arr2, (n, n))\n",
        "                if(len(data) > 0):\n",
        "                  prev_x = data[-1][0]\n",
        "                  prev_y = data[-1][1] \n",
        "                  if(prev_x.shape != x.shape or prev_x.shape != y.shape):\n",
        "                     continue\n",
        "                data.append([x, y])\n",
        "                if any(np.diagonal(x).tolist()) or any(np.diagonal(y).tolist()):\n",
        "                    # print(file)\n",
        "                    # print(\"Diagonal is not 0\")\n",
        "                    # print()\n",
        "                    continue\n",
        "                ok+=1\n",
        "          if ok == len(lines):\n",
        "                count += 1\n",
        "                data = np.array(data)\n",
        "                print(\"data shape\", data.shape, \"lines\", len(lines), file)\n",
        "                train_save_model(data, file, \"/content/gdrive/My Drive/CSE 534/Project/FCN_data/errors_saturation.csv\")\n",
        "                #break \n",
        "      print(count)\n",
        "      #break  \n",
        "  # print(\"Okay files:\", count)"
      ],
      "execution_count": null,
      "outputs": []
    },
    {
      "cell_type": "code",
      "metadata": {
        "id": "RV1oJimN7_Le"
      },
      "source": [
        "read_and_create_models()"
      ],
      "execution_count": null,
      "outputs": []
    }
  ]
}